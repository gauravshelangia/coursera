{
 "cells": [
  {
   "cell_type": "code",
   "execution_count": 2,
   "metadata": {},
   "outputs": [],
   "source": [
    "from tensorflow.keras.preprocessing.text import Tokenizer\n",
    "from tensorflow.keras.preprocessing.sequence import pad_sequences"
   ]
  },
  {
   "cell_type": "code",
   "execution_count": 3,
   "metadata": {},
   "outputs": [
    {
     "name": "stdout",
     "output_type": "stream",
     "text": [
      "word_index: \n",
      " {'myOOV': 1, 'my': 2, 'love': 3, 'dog': 4, 'i': 5, 'you': 6, 'cat': 7, 'do': 8, 'think': 9, 'is': 10, 'amazing': 11}\n",
      "sequence : \n",
      " [[5, 3, 2, 4], [5, 3, 2, 7], [6, 3, 2, 4], [8, 6, 9, 2, 4, 10, 11]]\n",
      "padded : \n",
      " [[ 5  3  2  4  0  0  0  0  0  0]\n",
      " [ 5  3  2  7  0  0  0  0  0  0]\n",
      " [ 6  3  2  4  0  0  0  0  0  0]\n",
      " [ 8  6  9  2  4 10 11  0  0  0]]\n"
     ]
    }
   ],
   "source": [
    "sentences = [\n",
    "    \"I love my dog\",\n",
    "    \"I love my cat\",\n",
    "    \"You love my dog\",\n",
    "    \"Do you think my dog is amazing?\"\n",
    "]\n",
    "# oov_token - out of vocublary\n",
    "tokenizer = Tokenizer(num_words=100, oov_token=\"myOOV\")\n",
    "tokenizer.fit_on_texts(sentences)\n",
    "word_index = tokenizer.word_index\n",
    "sequence = tokenizer.texts_to_sequences(sentences)\n",
    "padded = pad_sequences(sequence, padding='post', maxlen=10, truncating='post')\n",
    "\n",
    "print(\"word_index: \\n\", word_index  )\n",
    "print(\"sequence : \\n\", sequence)\n",
    "print(\"padded : \\n\", padded )\n",
    "\n"
   ]
  },
  {
   "cell_type": "code",
   "execution_count": 4,
   "metadata": {},
   "outputs": [
    {
     "name": "stdout",
     "output_type": "stream",
     "text": [
      "test data tokens \n",
      " [[5, 1, 3, 2, 4], [2, 4, 1, 2, 1]]\n",
      "test sequences \n",
      " [[5, 1, 3, 2, 4], [2, 4, 1, 2, 1]]\n",
      "test padding \n",
      " [[5 1 3 2 4]\n",
      " [2 4 1 2 1]]\n",
      "[5 1 3 2 4]\n",
      "(2, 5)\n"
     ]
    }
   ],
   "source": [
    "test_data = [\n",
    "    \"I really love my dog\",\n",
    "    \"my dog loves my manatee\"\n",
    "]\n",
    "test_tokens = tokenizer.texts_to_sequences(test_data)\n",
    "test_sequence = tokenizer.texts_to_sequences(test_data)\n",
    "test_padded = pad_sequences(test_sequence)\n",
    "\n",
    "print(\"test data tokens \\n\", test_tokens)\n",
    "print(\"test sequences \\n\", test_sequence)\n",
    "print(\"test padding \\n\", test_padded)\n",
    "\n",
    "print(test_padded[0])\n",
    "print(test_padded.shape)"
   ]
  },
  {
   "cell_type": "code",
   "execution_count": 5,
   "metadata": {},
   "outputs": [
    {
     "data": {
      "text/plain": [
       "str"
      ]
     },
     "execution_count": 5,
     "metadata": {},
     "output_type": "execute_result"
    }
   ],
   "source": [
    "type(sentences[0])"
   ]
  },
  {
   "cell_type": "code",
   "execution_count": null,
   "metadata": {},
   "outputs": [],
   "source": []
  }
 ],
 "metadata": {
  "kernelspec": {
   "display_name": "Python 3",
   "language": "python",
   "name": "python3"
  },
  "language_info": {
   "codemirror_mode": {
    "name": "ipython",
    "version": 3
   },
   "file_extension": ".py",
   "mimetype": "text/x-python",
   "name": "python",
   "nbconvert_exporter": "python",
   "pygments_lexer": "ipython3",
   "version": "3.7.3"
  }
 },
 "nbformat": 4,
 "nbformat_minor": 2
}
