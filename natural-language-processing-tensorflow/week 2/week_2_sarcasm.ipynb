{
 "cells": [
  {
   "cell_type": "code",
   "execution_count": 1,
   "metadata": {},
   "outputs": [],
   "source": [
    "import json\n",
    "import tensorflow as tf\n",
    "\n",
    "from tensorflow.keras.preprocessing.text import Tokenizer\n",
    "from tensorflow.keras.preprocessing.sequence import pad_sequences"
   ]
  },
  {
   "cell_type": "code",
   "execution_count": 2,
   "metadata": {},
   "outputs": [
    {
     "name": "stdout",
     "output_type": "stream",
     "text": [
      "--2019-08-26 01:45:33--  https://storage.googleapis.com/laurencemoroney-blog.appspot.com/sarcasm.json\n",
      "Resolving storage.googleapis.com (storage.googleapis.com)... 172.217.160.208\n",
      "Connecting to storage.googleapis.com (storage.googleapis.com)|172.217.160.208|:443... connected.\n",
      "HTTP request sent, awaiting response... 200 OK\n",
      "Length: 5643545 (5.4M) [application/json]\n",
      "Saving to: '/tmp/sarcasm.json'\n",
      "\n",
      "/tmp/sarcasm.json   100%[===================>]   5.38M  5.46MB/s    in 1.0s    \n",
      "\n",
      "2019-08-26 01:45:35 (5.46 MB/s) - '/tmp/sarcasm.json' saved [5643545/5643545]\n",
      "\n"
     ]
    }
   ],
   "source": [
    "!wget --no-check-certificate \\\n",
    "    https://storage.googleapis.com/laurencemoroney-blog.appspot.com/sarcasm.json \\\n",
    "    -O /tmp/sarcasm.json\n"
   ]
  },
  {
   "cell_type": "code",
   "execution_count": 3,
   "metadata": {},
   "outputs": [],
   "source": [
    "vocab_size = 10000\n",
    "embedding_dim = 16\n",
    "max_length = 100\n",
    "trunc_type='post'\n",
    "padding_type='post'\n",
    "oov_tok = \"<OOV>\"\n",
    "training_size = 20000"
   ]
  },
  {
   "cell_type": "code",
   "execution_count": 4,
   "metadata": {},
   "outputs": [],
   "source": [
    "with open(\"/tmp/sarcasm.json\", 'r') as f:\n",
    "    datastore = json.load(f)\n",
    "\n",
    "sentences = []\n",
    "labels = []\n",
    "\n",
    "for item in datastore:\n",
    "    sentences.append(item['headline'])\n",
    "    labels.append(item['is_sarcastic'])"
   ]
  },
  {
   "cell_type": "code",
   "execution_count": 5,
   "metadata": {},
   "outputs": [],
   "source": [
    "training_sentences = sentences[0:training_size]\n",
    "testing_sentences = sentences[training_size:]\n",
    "training_labels = labels[0:training_size]\n",
    "testing_labels = labels[training_size:]"
   ]
  },
  {
   "cell_type": "code",
   "execution_count": 6,
   "metadata": {},
   "outputs": [],
   "source": [
    "tokenizer = Tokenizer(num_words=vocab_size, oov_token=oov_tok)\n",
    "tokenizer.fit_on_texts(training_sentences)\n",
    "\n",
    "word_index = tokenizer.word_index\n",
    "\n",
    "training_sequences = tokenizer.texts_to_sequences(training_sentences)\n",
    "training_padded = pad_sequences(training_sequences, maxlen=max_length, padding=padding_type, truncating=trunc_type)\n",
    "\n",
    "testing_sequences = tokenizer.texts_to_sequences(testing_sentences)\n",
    "testing_padded = pad_sequences(testing_sequences, maxlen=max_length, padding=padding_type, truncating=trunc_type)"
   ]
  },
  {
   "cell_type": "code",
   "execution_count": 7,
   "metadata": {},
   "outputs": [
    {
     "name": "stdout",
     "output_type": "stream",
     "text": [
      "Model: \"sequential\"\n",
      "_________________________________________________________________\n",
      "Layer (type)                 Output Shape              Param #   \n",
      "=================================================================\n",
      "embedding (Embedding)        (None, 100, 16)           160000    \n",
      "_________________________________________________________________\n",
      "global_average_pooling1d (Gl (None, 16)                0         \n",
      "_________________________________________________________________\n",
      "dense (Dense)                (None, 24)                408       \n",
      "_________________________________________________________________\n",
      "dense_1 (Dense)              (None, 1)                 25        \n",
      "=================================================================\n",
      "Total params: 160,433\n",
      "Trainable params: 160,433\n",
      "Non-trainable params: 0\n",
      "_________________________________________________________________\n"
     ]
    }
   ],
   "source": [
    "model = tf.keras.Sequential([\n",
    "    tf.keras.layers.Embedding(vocab_size, embedding_dim, input_length=max_length),\n",
    "    tf.keras.layers.GlobalAveragePooling1D(),\n",
    "    tf.keras.layers.Dense(24, activation='relu'),\n",
    "    tf.keras.layers.Dense(1, activation='sigmoid')\n",
    "])\n",
    "model.compile(loss='binary_crossentropy',optimizer='adam',metrics=['accuracy'])\n",
    "model.summary()\n"
   ]
  },
  {
   "cell_type": "code",
   "execution_count": 8,
   "metadata": {},
   "outputs": [
    {
     "name": "stderr",
     "output_type": "stream",
     "text": [
      "WARNING: Logging before flag parsing goes to stderr.\n",
      "W0826 01:46:00.300133 4815324608 deprecation.py:323] From /anaconda3/envs/py3/lib/python3.7/site-packages/tensorflow/python/ops/math_grad.py:1250: add_dispatch_support.<locals>.wrapper (from tensorflow.python.ops.array_ops) is deprecated and will be removed in a future version.\n",
      "Instructions for updating:\n",
      "Use tf.where in 2.0, which has the same broadcast rule as np.where\n"
     ]
    },
    {
     "name": "stdout",
     "output_type": "stream",
     "text": [
      "Train on 20000 samples, validate on 6709 samples\n",
      "Epoch 1/30\n",
      "20000/20000 - 3s - loss: 0.6694 - accuracy: 0.5785 - val_loss: 0.6077 - val_accuracy: 0.5952\n",
      "Epoch 2/30\n",
      "20000/20000 - 2s - loss: 0.4282 - accuracy: 0.8309 - val_loss: 0.3774 - val_accuracy: 0.8404\n",
      "Epoch 3/30\n",
      "20000/20000 - 2s - loss: 0.3021 - accuracy: 0.8776 - val_loss: 0.3496 - val_accuracy: 0.8529\n",
      "Epoch 4/30\n",
      "20000/20000 - 2s - loss: 0.2497 - accuracy: 0.9011 - val_loss: 0.3424 - val_accuracy: 0.8578\n",
      "Epoch 5/30\n",
      "20000/20000 - 2s - loss: 0.2145 - accuracy: 0.9173 - val_loss: 0.3449 - val_accuracy: 0.8577\n",
      "Epoch 6/30\n",
      "20000/20000 - 3s - loss: 0.1873 - accuracy: 0.9272 - val_loss: 0.3593 - val_accuracy: 0.8518\n",
      "Epoch 7/30\n",
      "20000/20000 - 3s - loss: 0.1655 - accuracy: 0.9388 - val_loss: 0.3704 - val_accuracy: 0.8545\n",
      "Epoch 8/30\n",
      "20000/20000 - 5s - loss: 0.1464 - accuracy: 0.9458 - val_loss: 0.4013 - val_accuracy: 0.8450\n",
      "Epoch 9/30\n",
      "20000/20000 - 3s - loss: 0.1324 - accuracy: 0.9536 - val_loss: 0.4107 - val_accuracy: 0.8511\n",
      "Epoch 10/30\n",
      "20000/20000 - 2s - loss: 0.1206 - accuracy: 0.9575 - val_loss: 0.4345 - val_accuracy: 0.8472\n",
      "Epoch 11/30\n",
      "20000/20000 - 2s - loss: 0.1074 - accuracy: 0.9625 - val_loss: 0.4592 - val_accuracy: 0.8444\n",
      "Epoch 12/30\n",
      "20000/20000 - 2s - loss: 0.0977 - accuracy: 0.9669 - val_loss: 0.4880 - val_accuracy: 0.8438\n",
      "Epoch 13/30\n",
      "20000/20000 - 2s - loss: 0.0880 - accuracy: 0.9705 - val_loss: 0.5230 - val_accuracy: 0.8372\n",
      "Epoch 14/30\n",
      "20000/20000 - 2s - loss: 0.0795 - accuracy: 0.9736 - val_loss: 0.5523 - val_accuracy: 0.8369\n",
      "Epoch 15/30\n",
      "20000/20000 - 2s - loss: 0.0727 - accuracy: 0.9763 - val_loss: 0.5761 - val_accuracy: 0.8371\n",
      "Epoch 16/30\n",
      "20000/20000 - 2s - loss: 0.0673 - accuracy: 0.9783 - val_loss: 0.6180 - val_accuracy: 0.8317\n",
      "Epoch 17/30\n",
      "20000/20000 - 2s - loss: 0.0613 - accuracy: 0.9809 - val_loss: 0.6652 - val_accuracy: 0.8264\n",
      "Epoch 18/30\n",
      "20000/20000 - 2s - loss: 0.0555 - accuracy: 0.9830 - val_loss: 0.6717 - val_accuracy: 0.8289\n",
      "Epoch 19/30\n",
      "20000/20000 - 2s - loss: 0.0520 - accuracy: 0.9837 - val_loss: 0.7037 - val_accuracy: 0.8269\n",
      "Epoch 20/30\n",
      "20000/20000 - 2s - loss: 0.0468 - accuracy: 0.9855 - val_loss: 0.7384 - val_accuracy: 0.8256\n",
      "Epoch 21/30\n",
      "20000/20000 - 2s - loss: 0.0447 - accuracy: 0.9864 - val_loss: 0.7769 - val_accuracy: 0.8217\n",
      "Epoch 22/30\n",
      "20000/20000 - 2s - loss: 0.0399 - accuracy: 0.9883 - val_loss: 0.8226 - val_accuracy: 0.8232\n",
      "Epoch 23/30\n",
      "20000/20000 - 2s - loss: 0.0373 - accuracy: 0.9892 - val_loss: 0.8558 - val_accuracy: 0.8214\n",
      "Epoch 24/30\n",
      "20000/20000 - 2s - loss: 0.0353 - accuracy: 0.9894 - val_loss: 0.8863 - val_accuracy: 0.8198\n",
      "Epoch 25/30\n",
      "20000/20000 - 2s - loss: 0.0311 - accuracy: 0.9905 - val_loss: 0.9467 - val_accuracy: 0.8132\n",
      "Epoch 26/30\n",
      "20000/20000 - 2s - loss: 0.0278 - accuracy: 0.9923 - val_loss: 0.9800 - val_accuracy: 0.8164\n",
      "Epoch 27/30\n",
      "20000/20000 - 2s - loss: 0.0269 - accuracy: 0.9916 - val_loss: 1.0115 - val_accuracy: 0.8134\n",
      "Epoch 28/30\n",
      "20000/20000 - 2s - loss: 0.0234 - accuracy: 0.9935 - val_loss: 1.0519 - val_accuracy: 0.8122\n",
      "Epoch 29/30\n",
      "20000/20000 - 2s - loss: 0.0236 - accuracy: 0.9929 - val_loss: 1.0918 - val_accuracy: 0.8131\n",
      "Epoch 30/30\n",
      "20000/20000 - 2s - loss: 0.0212 - accuracy: 0.9944 - val_loss: 1.1288 - val_accuracy: 0.8128\n"
     ]
    }
   ],
   "source": [
    "num_epochs = 30\n",
    "history = model.fit(training_padded, training_labels, epochs=num_epochs, validation_data=(testing_padded, testing_labels), verbose=2)"
   ]
  },
  {
   "cell_type": "code",
   "execution_count": 9,
   "metadata": {},
   "outputs": [
    {
     "data": {
      "text/plain": [
       "<Figure size 640x480 with 1 Axes>"
      ]
     },
     "metadata": {},
     "output_type": "display_data"
    },
    {
     "data": {
      "text/plain": [
       "<Figure size 640x480 with 1 Axes>"
      ]
     },
     "metadata": {},
     "output_type": "display_data"
    }
   ],
   "source": [
    "import matplotlib.pyplot as plt\n",
    "\n",
    "\n",
    "def plot_graphs(history, string):\n",
    "    plt.plot(history.history[string])\n",
    "    plt.plot(history.history['val_'+string])\n",
    "    plt.xlabel(\"Epochs\")\n",
    "    plt.ylabel(string)\n",
    "    plt.legend([string, 'val_'+string])\n",
    "    plt.show()\n"
   ]
  },
  {
   "cell_type": "code",
   "execution_count": 10,
   "metadata": {},
   "outputs": [
    {
     "data": {
      "image/png": "[encoded data removed]",
      "text/plain": [
       "<Figure size 432x288 with 1 Axes>"
      ]
     },
     "metadata": {
      "needs_background": "light"
     },
     "output_type": "display_data"
    }
   ],
   "source": [
    "plot_graphs(history, \"accuracy\")"
   ]
  },
  {
   "cell_type": "code",
   "execution_count": 11,
   "metadata": {},
   "outputs": [
    {
     "data": {
      "image/png": "[encoded data removed]",
      "text/plain": [
       "<Figure size 432x288 with 1 Axes>"
      ]
     },
     "metadata": {
      "needs_background": "light"
     },
     "output_type": "display_data"
    }
   ],
   "source": [
    "plot_graphs(history, \"loss\")"
   ]
  },
  {
   "cell_type": "code",
   "execution_count": 12,
   "metadata": {},
   "outputs": [
    {
     "name": "stdout",
     "output_type": "stream",
     "text": [
      "former <OOV> store clerk sues over secret 'black <OOV> for minority shoppers ? ? ? ? ? ? ? ? ? ? ? ? ? ? ? ? ? ? ? ? ? ? ? ? ? ? ? ? ? ? ? ? ? ? ? ? ? ? ? ? ? ? ? ? ? ? ? ? ? ? ? ? ? ? ? ? ? ? ? ? ? ? ? ? ? ? ? ? ? ? ? ? ? ? ? ? ? ? ? ? ? ? ? ? ? ? ? ?\n",
      "mom starting to fear son's web series closest thing she will have to grandchild\n",
      "1\n"
     ]
    }
   ],
   "source": [
    "reverse_word_index = dict([(value, key) for (key, value) in word_index.items()])\n",
    "\n",
    "def decode_sentence(text):\n",
    "    return ' '.join([reverse_word_index.get(i, '?') for i in text])\n",
    "\n",
    "print(decode_sentence(training_padded[0]))\n",
    "print(training_sentences[2])\n",
    "print(labels[2])"
   ]
  },
  {
   "cell_type": "code",
   "execution_count": 14,
   "metadata": {},
   "outputs": [
    {
     "name": "stdout",
     "output_type": "stream",
     "text": [
      "(10000, 16)\n"
     ]
    }
   ],
   "source": [
    "e = model.layers[0]\n",
    "weights = e.get_weights()[0]\n",
    "print(weights.shape) # shape: (vocab_size, embedding_dim)"
   ]
  },
  {
   "cell_type": "code",
   "execution_count": 15,
   "metadata": {},
   "outputs": [],
   "source": [
    "import io\n",
    "\n",
    "out_v = io.open('vecs_sarcasm.tsv', 'w', encoding='utf-8')\n",
    "out_m = io.open('meta_sarcasm.tsv', 'w', encoding='utf-8')\n",
    "for word_num in range(1, vocab_size):\n",
    "    word = reverse_word_index[word_num]\n",
    "    embeddings = weights[word_num]\n",
    "    out_m.write(word + \"\\n\")\n",
    "    out_v.write('\\t'.join([str(x) for x in embeddings]) + \"\\n\")\n",
    "\n",
    "out_v.close()\n",
    "out_m.close()"
   ]
  },
  {
   "cell_type": "code",
   "execution_count": null,
   "metadata": {},
   "outputs": [],
   "source": [
    "# Now the vecs_sarcasm and meta_sarcasm can be used to analys the result.\n",
    "# upload vec_sarcasm and meta_sarcasm on https://projector.tensorflow.org to see the result"
   ]
  }
 ],
 "metadata": {
  "kernelspec": {
   "display_name": "Python 3",
   "language": "python",
   "name": "python3"
  },
  "language_info": {
   "codemirror_mode": {
    "name": "ipython",
    "version": 3
   },
   "file_extension": ".py",
   "mimetype": "text/x-python",
   "name": "python",
   "nbconvert_exporter": "python",
   "pygments_lexer": "ipython3",
   "version": "3.7.3"
  }
 },
 "nbformat": 4,
 "nbformat_minor": 2
}
