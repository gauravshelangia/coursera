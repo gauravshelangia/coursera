{
 "cells": [
  {
   "cell_type": "code",
   "execution_count": 3,
   "metadata": {},
   "outputs": [
    {
     "name": "stdout",
     "output_type": "stream",
     "text": [
      "Collecting tensorflow==2.0.0-rc1\n",
      "\u001b[?25l  Downloading https://files.pythonhosted.org/packages/d0/25/4ea4c7ef797daf4d2f4f360061ee3bf6754a653323ee99f28925c87b4a98/tensorflow-2.0.0rc1-cp37-cp37m-macosx_10_11_x86_64.whl (102.7MB)\n",
      "\u001b[K     |████████████████████████████████| 102.7MB 983kB/s eta 0:00:01    |█████▎                          | 16.9MB 813kB/s eta 0:01:46     |███████████████▊                | 50.4MB 602kB/s eta 0:01:27     |███████████████████             | 61.1MB 589kB/s eta 0:01:11\n",
      "\u001b[?25hRequirement already satisfied: protobuf>=3.6.1 in /anaconda3/envs/py3/lib/python3.7/site-packages (from tensorflow==2.0.0-rc1) (3.9.1)\n",
      "Requirement already satisfied: google-pasta>=0.1.6 in /anaconda3/envs/py3/lib/python3.7/site-packages (from tensorflow==2.0.0-rc1) (0.1.7)\n",
      "Collecting tf-estimator-nightly<1.14.0.dev2019080602,>=1.14.0.dev2019080601 (from tensorflow==2.0.0-rc1)\n",
      "\u001b[?25l  Downloading https://files.pythonhosted.org/packages/21/28/f2a27a62943d5f041e4a6fd404b2d21cb7c59b2242a4e73b03d9ba166552/tf_estimator_nightly-1.14.0.dev2019080601-py2.py3-none-any.whl (501kB)\n",
      "\u001b[K     |████████████████████████████████| 501kB 925kB/s eta 0:00:01\n",
      "\u001b[?25hRequirement already satisfied: six>=1.10.0 in /anaconda3/envs/py3/lib/python3.7/site-packages (from tensorflow==2.0.0-rc1) (1.12.0)\n",
      "Requirement already satisfied: grpcio>=1.8.6 in /anaconda3/envs/py3/lib/python3.7/site-packages (from tensorflow==2.0.0-rc1) (1.22.0)\n",
      "Requirement already satisfied: wrapt>=1.11.1 in /anaconda3/envs/py3/lib/python3.7/site-packages (from tensorflow==2.0.0-rc1) (1.11.2)\n",
      "Requirement already satisfied: absl-py>=0.7.0 in /anaconda3/envs/py3/lib/python3.7/site-packages (from tensorflow==2.0.0-rc1) (0.7.1)\n",
      "Collecting opt-einsum>=2.3.2 (from tensorflow==2.0.0-rc1)\n",
      "\u001b[?25l  Downloading https://files.pythonhosted.org/packages/c0/1a/ab5683d8e450e380052d3a3e77bb2c9dffa878058f583587c3875041fb63/opt_einsum-3.0.1.tar.gz (66kB)\n",
      "\u001b[K     |████████████████████████████████| 71kB 957kB/s eta 0:00:011\n",
      "\u001b[?25hCollecting tb-nightly<1.15.0a20190807,>=1.15.0a20190806 (from tensorflow==2.0.0-rc1)\n",
      "\u001b[?25l  Downloading https://files.pythonhosted.org/packages/bc/88/24b5fb7280e74c7cf65bde47c171547fd02afb3840cff41bcbe9270650f5/tb_nightly-1.15.0a20190806-py3-none-any.whl (4.3MB)\n",
      "\u001b[K     |████████████████████████████████| 4.3MB 1.2MB/s eta 0:00:01     |██▊                             | 368kB 380kB/s eta 0:00:11\n",
      "\u001b[?25hRequirement already satisfied: wheel>=0.26 in /anaconda3/envs/py3/lib/python3.7/site-packages (from tensorflow==2.0.0-rc1) (0.33.4)\n",
      "Requirement already satisfied: gast>=0.2.0 in /anaconda3/envs/py3/lib/python3.7/site-packages (from tensorflow==2.0.0-rc1) (0.2.2)\n",
      "Requirement already satisfied: astor>=0.6.0 in /anaconda3/envs/py3/lib/python3.7/site-packages (from tensorflow==2.0.0-rc1) (0.8.0)\n",
      "Requirement already satisfied: keras-applications>=1.0.8 in /anaconda3/envs/py3/lib/python3.7/site-packages (from tensorflow==2.0.0-rc1) (1.0.8)\n",
      "Requirement already satisfied: termcolor>=1.1.0 in /anaconda3/envs/py3/lib/python3.7/site-packages (from tensorflow==2.0.0-rc1) (1.1.0)\n",
      "Requirement already satisfied: numpy<2.0,>=1.16.0 in /anaconda3/envs/py3/lib/python3.7/site-packages (from tensorflow==2.0.0-rc1) (1.17.0)\n",
      "Requirement already satisfied: keras-preprocessing>=1.0.5 in /anaconda3/envs/py3/lib/python3.7/site-packages (from tensorflow==2.0.0-rc1) (1.1.0)\n",
      "Requirement already satisfied: setuptools in /anaconda3/envs/py3/lib/python3.7/site-packages (from protobuf>=3.6.1->tensorflow==2.0.0-rc1) (41.0.1)\n",
      "Requirement already satisfied: markdown>=2.6.8 in /anaconda3/envs/py3/lib/python3.7/site-packages (from tb-nightly<1.15.0a20190807,>=1.15.0a20190806->tensorflow==2.0.0-rc1) (3.1.1)\n",
      "Requirement already satisfied: werkzeug>=0.11.15 in /anaconda3/envs/py3/lib/python3.7/site-packages (from tb-nightly<1.15.0a20190807,>=1.15.0a20190806->tensorflow==2.0.0-rc1) (0.15.5)\n",
      "Requirement already satisfied: h5py in /anaconda3/envs/py3/lib/python3.7/site-packages (from keras-applications>=1.0.8->tensorflow==2.0.0-rc1) (2.9.0)\n",
      "Building wheels for collected packages: opt-einsum\n",
      "  Building wheel for opt-einsum (setup.py) ... \u001b[?25ldone\n",
      "\u001b[?25h  Stored in directory: /Users/gaurav/Library/Caches/pip/wheels/91/98/8d/10e3d4e04c959597a411b91acd3695e9e2d210e68ce3427aad\n",
      "Successfully built opt-einsum\n",
      "Installing collected packages: tf-estimator-nightly, opt-einsum, tb-nightly, tensorflow\n",
      "  Found existing installation: tf-estimator-nightly 1.14.0.dev2019030115\n",
      "    Uninstalling tf-estimator-nightly-1.14.0.dev2019030115:\n",
      "      Successfully uninstalled tf-estimator-nightly-1.14.0.dev2019030115\n",
      "  Found existing installation: tb-nightly 1.14.0a20190301\n",
      "    Uninstalling tb-nightly-1.14.0a20190301:\n",
      "      Successfully uninstalled tb-nightly-1.14.0a20190301\n",
      "  Found existing installation: tensorflow 2.0.0a0\n",
      "    Uninstalling tensorflow-2.0.0a0:\n",
      "      Successfully uninstalled tensorflow-2.0.0a0\n",
      "Successfully installed opt-einsum-3.0.1 tb-nightly-1.15.0a20190806 tensorflow-2.0.0rc1 tf-estimator-nightly-1.14.0.dev2019080601\n"
     ]
    }
   ],
   "source": [
    "# setup installation\n",
    "!pip install tensorflow==2.0.0-rc1"
   ]
  },
  {
   "cell_type": "code",
   "execution_count": null,
   "metadata": {},
   "outputs": [],
   "source": []
  }
 ],
 "metadata": {
  "kernelspec": {
   "display_name": "Python 3",
   "language": "python",
   "name": "python3"
  },
  "language_info": {
   "codemirror_mode": {
    "name": "ipython",
    "version": 3
   },
   "file_extension": ".py",
   "mimetype": "text/x-python",
   "name": "python",
   "nbconvert_exporter": "python",
   "pygments_lexer": "ipython3",
   "version": "3.7.3"
  }
 },
 "nbformat": 4,
 "nbformat_minor": 2
}
